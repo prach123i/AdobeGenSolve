{
 "cells": [
  {
   "cell_type": "markdown",
   "id": "923fcb4e",
   "metadata": {},
   "source": [
    "# CURVETOPIA: A Journey into the World of Curves"
   ]
  },
  {
   "cell_type": "markdown",
   "id": "b8a13f64",
   "metadata": {},
   "source": [
    "### Welcome to Curvetopia, where we bring order and beauty to the world of 2D curves!\n",
    "This project will guide you through identifying, regularizing, and beautifying various types of curves. Let’s dive in and explore."
   ]
  },
  {
   "cell_type": "code",
   "execution_count": 1,
   "id": "bc14fea8",
   "metadata": {},
   "outputs": [],
   "source": [
    "import numpy as np\n",
    "import warnings\n",
    "import gradio as gr\n",
    "import matplotlib.pyplot as plt\n",
    "from scipy import optimize\n",
    "from scipy.interpolate import splprep, splev"
   ]
  },
  {
   "cell_type": "code",
   "execution_count": 2,
   "id": "2dd5ca24",
   "metadata": {},
   "outputs": [],
   "source": [
    "warnings.filterwarnings(\"ignore\")"
   ]
  },
  {
   "cell_type": "code",
   "execution_count": 3,
   "id": "ef33017d",
   "metadata": {},
   "outputs": [],
   "source": [
    "# Define colors for plotting\n",
    "COLORS = ['Black']"
   ]
  },
  {
   "cell_type": "code",
   "execution_count": 4,
   "id": "dcdbb864",
   "metadata": {},
   "outputs": [],
   "source": [
    "# Read CSV data\n",
    "def read_csv(csv_path):\n",
    "    np_path_XYs = np.genfromtxt(csv_path, delimiter=',')\n",
    "    path_XYs = []\n",
    "    for i in np.unique(np_path_XYs[:, 0]):\n",
    "        npXYs = np_path_XYs[np_path_XYs[:, 0] == i][:, 1:]\n",
    "        XYs = [npXYs[npXYs[:, 0] == j][:, 1:] for j in np.unique(npXYs[:, 0])]\n",
    "        path_XYs.append(XYs)\n",
    "    return path_XYs"
   ]
  },
  {
   "cell_type": "code",
   "execution_count": 5,
   "id": "2cbfad6f",
   "metadata": {},
   "outputs": [],
   "source": [
    "# Plot functions\n",
    "def plot(paths_XYs, colors=COLORS):\n",
    "    fig, ax = plt.subplots(tight_layout=True, figsize=(8, 8))\n",
    "    for i, XYs in enumerate(paths_XYs):\n",
    "        color = colors[i % len(colors)]\n",
    "        for XY in XYs:\n",
    "            ax.plot(XY[:, 0], XY[:, 1], c=color, linewidth=2)\n",
    "    ax.set_aspect('equal')\n",
    "    plt.show()"
   ]
  },
  {
   "cell_type": "code",
   "execution_count": 6,
   "id": "b46a32ed",
   "metadata": {},
   "outputs": [],
   "source": [
    "# Simplify Polyline\n",
    "def simplify_polyline(points, num_points=100):\n",
    "    tck, u = splprep(points.T, u=None, s=0.0, per=1)\n",
    "    u_new = np.linspace(u.min(), u.max(), num_points)\n",
    "    return np.column_stack(splev(u_new, tck))"
   ]
  },
  {
   "cell_type": "code",
   "execution_count": 7,
   "id": "42abf60b",
   "metadata": {},
   "outputs": [],
   "source": [
    "# Determine if a polyline is a straight line\n",
    "def is_straight_line(polyline, curvature_threshold=0.01):\n",
    "    dx_dt = np.gradient(polyline[:, 0])\n",
    "    dy_dt = np.gradient(polyline[:, 1])\n",
    "    d2x_dt2 = np.gradient(dx_dt)\n",
    "    d2y_dt2 = np.gradient(dy_dt)\n",
    "    curvature = np.abs(dx_dt * d2y_dt2 - dy_dt * d2x_dt2) / (dx_dt**2 + dy_dt**2)**1.5\n",
    "    return np.mean(curvature) < curvature_threshold"
   ]
  },
  {
   "cell_type": "code",
   "execution_count": 8,
   "id": "7e284697",
   "metadata": {},
   "outputs": [],
   "source": [
    "# Fit ellipse to points\n",
    "def fit_ellipse(x, y):\n",
    "    def ellipse(x, y, x0, y0, a, b, theta):\n",
    "        x_r = (x - x0) * np.cos(theta) + (y - y0) * np.sin(theta)\n",
    "        y_r = -(x - x0) * np.sin(theta) + (y - y0) * np.cos(theta)\n",
    "        return (x_r / a)**2 + (y_r / b)**2 - 1\n",
    "\n",
    "    def fit_func(params):\n",
    "        return ellipse(x, y, *params)\n",
    "\n",
    "    x_center = np.mean(x)\n",
    "    y_center = np.mean(y)\n",
    "    a = np.max(x) - np.min(x)\n",
    "    b = np.max(y) - np.min(y)\n",
    "    if a < b:\n",
    "        a, b = b, a\n",
    "    p0 = [x_center, y_center, a / 2, b / 2, 0]\n",
    "    bounds = [(None, None), (None, None), (0, None), (0, None), (-np.pi, np.pi)]\n",
    "    result = optimize.least_squares(fit_func, p0, bounds=bounds, method='trf')\n",
    "    \n",
    "    return result.x"
   ]
  },
  {
   "cell_type": "code",
   "execution_count": 9,
   "id": "daae2685",
   "metadata": {},
   "outputs": [],
   "source": [
    "# Check if a polyline is a circle or ellipse\n",
    "def is_circle_or_ellipse(polyline, threshold=0.1):\n",
    "    x, y = polyline[:, 0], polyline[:, 1]\n",
    "    try:\n",
    "        params = fit_ellipse(x, y)\n",
    "        residuals = np.abs(ellipse(x, y, *params))\n",
    "        return np.mean(residuals) < threshold\n",
    "    except:\n",
    "        return False"
   ]
  },
  {
   "cell_type": "code",
   "execution_count": 10,
   "id": "2a070dea",
   "metadata": {},
   "outputs": [],
   "source": [
    "# Convert detected shapes to Bézier curves\n",
    "def bezier_line(start, end):\n",
    "    return np.array([start, start * 2/3 + end * 1/3, start * 1/3 + end * 2/3, end])"
   ]
  },
  {
   "cell_type": "code",
   "execution_count": 11,
   "id": "99b17752",
   "metadata": {},
   "outputs": [],
   "source": [
    "def bezier_ellipse(params, num_points=100):\n",
    "    x0, y0, a, b, theta = params\n",
    "    t = np.linspace(0, 2 * np.pi, num_points)\n",
    "    x = x0 + a * np.cos(t)\n",
    "    y = y0 + b * np.sin(t)\n",
    "    return np.column_stack((x, y))"
   ]
  },
  {
   "cell_type": "code",
   "execution_count": 12,
   "id": "575e2ef8",
   "metadata": {},
   "outputs": [],
   "source": [
    "def convert_to_bezier(polyline):\n",
    "    if is_straight_line(polyline):\n",
    "        return bezier_line(polyline[0], polyline[-1])\n",
    "    elif is_circle_or_ellipse(polyline):\n",
    "        params = fit_ellipse(polyline[:, 0], polyline[:, 1])\n",
    "        return bezier_ellipse(params)\n",
    "    else:\n",
    "        # For now, return the simplified polyline itself\n",
    "        return polyline"
   ]
  },
  {
   "cell_type": "code",
   "execution_count": 13,
   "id": "e600c47b",
   "metadata": {},
   "outputs": [],
   "source": [
    "# Function to plot Bézier curves\n",
    "def plot_bezier(bezier_curves):\n",
    "    fig, ax = plt.subplots(tight_layout=True, figsize=(8, 8))\n",
    "    for bezier_curve in bezier_curves:\n",
    "        ax.plot(bezier_curve[:, 0], bezier_curve[:, 1], linewidth=2)\n",
    "    ax.set_aspect('equal')\n",
    "    plt.close(fig)  # Close the figure to prevent it from displaying twice\n",
    "    return fig"
   ]
  },
  {
   "cell_type": "code",
   "execution_count": 14,
   "id": "b1577025",
   "metadata": {},
   "outputs": [],
   "source": [
    "# Main processing function for Gradio interface\n",
    "def process_csv(file):\n",
    "    paths_XYs = read_csv(file.name)\n",
    "    bezier_curves = [convert_to_bezier(polyline) for path in paths_XYs for polyline in path]\n",
    "    fig = plot_bezier(bezier_curves)\n",
    "    return fig"
   ]
  },
  {
   "cell_type": "code",
   "execution_count": 15,
   "id": "58d39154",
   "metadata": {},
   "outputs": [],
   "source": [
    "# Gradio interface\n",
    "interface = gr.Interface(\n",
    "    fn=process_csv,\n",
    "    inputs=gr.File(label=\"Upload CSV\"),\n",
    "    outputs=gr.Plot(label=\"Bézier Curves\"),\n",
    "    title=\"CURVETOPIA: A Journey into the World of Curves\",\n",
    "    description=\"Upload a CSV file containing curve data, and visualize the corresponding Bézier curves.\"\n",
    ")"
   ]
  },
  {
   "cell_type": "code",
   "execution_count": 16,
   "id": "8922e9ac",
   "metadata": {},
   "outputs": [
    {
     "name": "stdout",
     "output_type": "stream",
     "text": [
      "Running on local URL:  http://127.0.0.1:7860\n",
      "\n",
      "To create a public link, set `share=True` in `launch()`.\n"
     ]
    },
    {
     "data": {
      "text/html": [
       "<div><iframe src=\"http://127.0.0.1:7860/\" width=\"100%\" height=\"500\" allow=\"autoplay; camera; microphone; clipboard-read; clipboard-write;\" frameborder=\"0\" allowfullscreen></iframe></div>"
      ],
      "text/plain": [
       "<IPython.core.display.HTML object>"
      ]
     },
     "metadata": {},
     "output_type": "display_data"
    },
    {
     "data": {
      "text/plain": []
     },
     "execution_count": 16,
     "metadata": {},
     "output_type": "execute_result"
    }
   ],
   "source": [
    "# Launch the interface\n",
    "interface.launch()"
   ]
  },
  {
   "cell_type": "code",
   "execution_count": null,
   "id": "770984ef",
   "metadata": {},
   "outputs": [],
   "source": []
  }
 ],
 "metadata": {
  "kernelspec": {
   "display_name": "Python 3 (ipykernel)",
   "language": "python",
   "name": "python3"
  },
  "language_info": {
   "codemirror_mode": {
    "name": "ipython",
    "version": 3
   },
   "file_extension": ".py",
   "mimetype": "text/x-python",
   "name": "python",
   "nbconvert_exporter": "python",
   "pygments_lexer": "ipython3",
   "version": "3.11.7"
  }
 },
 "nbformat": 4,
 "nbformat_minor": 5
}
